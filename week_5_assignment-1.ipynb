{
 "cells": [
  {
   "cell_type": "code",
   "execution_count": 1,
   "id": "d7e9341e-ecc1-4c44-b99c-b48c89c31cc2",
   "metadata": {},
   "outputs": [],
   "source": [
    "# Q1. What is the exception in python? Write the difference Exceptions and syntax errors.\n",
    "# Answer:\n",
    "      # An error is an issue in a program that prevents the program from completing its task.\n",
    "      # In comparison, an exception is a condition that interrupts the normal flow of the program. \n",
    "      # Both errors and exceptions are a type of runtime error, which means they occur during the execution of a program."
   ]
  },
  {
   "cell_type": "code",
   "execution_count": 6,
   "id": "d2eff038-2d9e-46be-bf54-421096364979",
   "metadata": {},
   "outputs": [
    {
     "ename": "ZeroDivisionError",
     "evalue": "division by zero",
     "output_type": "error",
     "traceback": [
      "\u001b[0;31m---------------------------------------------------------------------------\u001b[0m",
      "\u001b[0;31mZeroDivisionError\u001b[0m                         Traceback (most recent call last)",
      "Cell \u001b[0;32mIn [6], line 7\u001b[0m\n\u001b[1;32m      1\u001b[0m \u001b[38;5;66;03m# Q2. what happens when an exception is not handled? Explain with an example.\u001b[39;00m\n\u001b[1;32m      2\u001b[0m \u001b[38;5;66;03m# Answer:\u001b[39;00m\n\u001b[1;32m      3\u001b[0m \u001b[38;5;66;03m#      If an exception is not caught (with a catch block), the runtime system will abort the program (i.e. crash)\u001b[39;00m\n\u001b[1;32m      4\u001b[0m \u001b[38;5;66;03m#      and an exception message will print to the console\u001b[39;00m\n\u001b[1;32m      5\u001b[0m \u001b[38;5;66;03m# For example:\u001b[39;00m\n\u001b[1;32m      6\u001b[0m \u001b[38;5;28;01mtry\u001b[39;00m:\n\u001b[0;32m----> 7\u001b[0m     \u001b[38;5;241;43m10\u001b[39;49m\u001b[38;5;241;43m/\u001b[39;49m\u001b[38;5;241;43m0\u001b[39;49m\n\u001b[1;32m      8\u001b[0m \u001b[38;5;28;01mexcept\u001b[39;00m \u001b[38;5;167;01mFileNotFoundError\u001b[39;00m \u001b[38;5;28;01mas\u001b[39;00m e:\n\u001b[1;32m      9\u001b[0m     \u001b[38;5;28mprint\u001b[39m(\u001b[38;5;124m\"\u001b[39m\u001b[38;5;124mThis is not handle error \u001b[39m\u001b[38;5;124m\"\u001b[39m, e)\n",
      "\u001b[0;31mZeroDivisionError\u001b[0m: division by zero"
     ]
    }
   ],
   "source": [
    "# Q2. what happens when an exception is not handled? Explain with an example.\n",
    "# Answer:\n",
    "#      If an exception is not caught (with a catch block), the runtime system will abort the program (i.e. crash)\n",
    "#      and an exception message will print to the console\n",
    "# For example:\n",
    "try:\n",
    "    10/0\n",
    "except FileNotFoundError as e:\n",
    "    print(\"This is not handle error \", e)"
   ]
  },
  {
   "cell_type": "code",
   "execution_count": 9,
   "id": "848be553-3ac7-4553-81fb-451632f3eb13",
   "metadata": {},
   "outputs": [
    {
     "name": "stdout",
     "output_type": "stream",
     "text": [
      "division by zero\n"
     ]
    }
   ],
   "source": [
    "# Q3. Which python statements are used to catch and handle exceptions?Explain with an example.\n",
    "# Answer:\n",
    "#       The try and except block in Python is used to catch and handle exceptions. \n",
    "#       Python executes code following the try statement as a “normal” part of the program. \n",
    "#     The code that follows the except statement is the program's response to any exceptions in the preceding try clause.\n",
    "# For example:\n",
    "try:\n",
    "    10/0\n",
    "except ZeroDivisionError as e:\n",
    "    print(e)\n",
    "    "
   ]
  },
  {
   "cell_type": "code",
   "execution_count": 3,
   "id": "8b6627f4-e82b-4145-8ce9-ea13295a1d5b",
   "metadata": {},
   "outputs": [],
   "source": [
    "# Q4: Explain with an example:\n",
    "#     1. try and else\n",
    "#     2. finally\n",
    "#     3. raise\n",
    "# Answer:\n",
    "# 1.try and else\n",
    "import logging\n",
    "logging.basicConfig(filename = \"assigmment.log\", level = logging.ERROR)\n",
    "try:\n",
    "    f = open(\"test5.txt\",'w') \n",
    "    f.write(\"My name is dushyant kumar and i am a student of data science on pwskils\")\n",
    "except:\n",
    "    logging.error(\"I am  handle this error\")\n",
    "else:\n",
    "    f.close()\n",
    "    logging.error(\"This file is close\")\n",
    "    \n",
    "    "
   ]
  },
  {
   "cell_type": "code",
   "execution_count": 4,
   "id": "2023220b-79d3-4cd1-8213-9490002cfd1f",
   "metadata": {},
   "outputs": [
    {
     "name": "stdout",
     "output_type": "stream",
     "text": [
      "division by zero\n",
      "This is execute finally\n"
     ]
    }
   ],
   "source": [
    "# 2.finally:\n",
    "try:\n",
    "    23/0\n",
    "except ZeroDivisionError as e:\n",
    "    print(e)\n",
    "finally:\n",
    "    print(\"This is execute finally\")"
   ]
  },
  {
   "cell_type": "code",
   "execution_count": 6,
   "id": "36ab9be8-b3b2-4864-a8dd-f33c2b954826",
   "metadata": {},
   "outputs": [
    {
     "name": "stdin",
     "output_type": "stream",
     "text": [
      "Enter your number:  -4\n"
     ]
    },
    {
     "ename": "Exception",
     "evalue": "Sorry, this is lower than 0",
     "output_type": "error",
     "traceback": [
      "\u001b[0;31m---------------------------------------------------------------------------\u001b[0m",
      "\u001b[0;31mException\u001b[0m                                 Traceback (most recent call last)",
      "Cell \u001b[0;32mIn [6], line 7\u001b[0m\n\u001b[1;32m      5\u001b[0m x \u001b[38;5;241m=\u001b[39m \u001b[38;5;28mint\u001b[39m(\u001b[38;5;28minput\u001b[39m(\u001b[38;5;124m\"\u001b[39m\u001b[38;5;124mEnter your number: \u001b[39m\u001b[38;5;124m\"\u001b[39m))\n\u001b[1;32m      6\u001b[0m \u001b[38;5;28;01mif\u001b[39;00m (x\u001b[38;5;241m<\u001b[39m\u001b[38;5;241m0\u001b[39m):\n\u001b[0;32m----> 7\u001b[0m     \u001b[38;5;28;01mraise\u001b[39;00m \u001b[38;5;167;01mException\u001b[39;00m(\u001b[38;5;124m\"\u001b[39m\u001b[38;5;124mSorry, this is lower than 0\u001b[39m\u001b[38;5;124m\"\u001b[39m)\n",
      "\u001b[0;31mException\u001b[0m: Sorry, this is lower than 0"
     ]
    }
   ],
   "source": [
    "# 3.raise:\n",
    "# Raise an error and stop the program if x is lower than 0:\n",
    "# import logging\n",
    "# logging.basicConfig(\"file1.txt\", level = logging.ERROR)\n",
    "x = int(input(\"Enter your number: \"))\n",
    "if (x<0):\n",
    "    raise Exception(\"Sorry, this is lower than 0\")\n",
    "\n"
   ]
  },
  {
   "cell_type": "code",
   "execution_count": 18,
   "id": "5ebd4163-cd11-4a30-bd73-403b66f9ad8f",
   "metadata": {},
   "outputs": [
    {
     "name": "stdin",
     "output_type": "stream",
     "text": [
      "Enter the number:  49\n"
     ]
    },
    {
     "name": "stdout",
     "output_type": "stream",
     "text": [
      "This is valid number\n"
     ]
    }
   ],
   "source": [
    "# Q5. what are custom exceptions in python? why do we need custom exceptions? Explain with an example.\n",
    "# Answer:\n",
    "#    Sometimes based on project requirement, a programmer needs to create his own exceptions and raise \n",
    "#    explicitly for corresponding scenarios. Such types of exceptions are called customized Exceptions \n",
    "#    or Programmatic Exceptions. We can raise a custom exception by using the keyword 'raise'.\n",
    "# For example:\n",
    "# write a prograam for write a number between 1 and 50.\n",
    "\n",
    "class validnum(Exception):\n",
    "    \n",
    "    def __init__(self,num):\n",
    "        self.num = num\n",
    "        \n",
    "def validnum(num):\n",
    "    if(num<1):\n",
    "        print(\"Sorry , this number is less than 1\")\n",
    "        raise validnum(\"Sorry next number try plz\")\n",
    "    elif(num>50):\n",
    "        print(\"Sorry , this number is greater than 50\")\n",
    "        raise validnum(\"Sorry next number try plz\")\n",
    "    else:\n",
    "        print(\"This is valid number\")\n",
    "        \n",
    "try:\n",
    "    num = int(input(\"Enter the number: \"))\n",
    "    validnum(num)\n",
    "except validnum as e:\n",
    "    print(e)\n",
    "    \n",
    "        \n",
    "        \n"
   ]
  },
  {
   "cell_type": "code",
   "execution_count": 20,
   "id": "f5e7b81f-ac6b-436d-8a3c-bb16378968c8",
   "metadata": {},
   "outputs": [
    {
     "name": "stdin",
     "output_type": "stream",
     "text": [
      "Enter your marks:  45\n"
     ]
    },
    {
     "name": "stdout",
     "output_type": "stream",
     "text": [
      "This is valid marks\n"
     ]
    }
   ],
   "source": [
    "Q6. Create a custom exception class. Use this class to handle thi\n",
    "# This program written by getting valid marks between 1 and 100\n",
    "class validmarks(Exception):\n",
    "    \n",
    "    def __init__(self , marks):\n",
    "        self.marks = marks\n",
    "\n",
    "def validmarks(marks):\n",
    "    if(marks<33):\n",
    "        print(\"This is not valid marks\")\n",
    "        raise validmarks(\"This is not good marks\")\n",
    "    elif(marks>100):\n",
    "        print(\"This is also not valid marks\")\n",
    "        raise validmarks(\"This is not good marks\")\n",
    "    else:\n",
    "        print(\"This is valid marks\")\n",
    "        \n",
    "try:\n",
    "    marks = int(input(\"Enter your marks: \"))\n",
    "    validmarks(marks)\n",
    "except validmarks as e:\n",
    "    print(e)"
   ]
  },
  {
   "cell_type": "code",
   "execution_count": null,
   "id": "d351acfa-a5ce-4ce6-b0d4-b03e669cca96",
   "metadata": {},
   "outputs": [],
   "source": []
  }
 ],
 "metadata": {
  "kernelspec": {
   "display_name": "Python 3 (ipykernel)",
   "language": "python",
   "name": "python3"
  },
  "language_info": {
   "codemirror_mode": {
    "name": "ipython",
    "version": 3
   },
   "file_extension": ".py",
   "mimetype": "text/x-python",
   "name": "python",
   "nbconvert_exporter": "python",
   "pygments_lexer": "ipython3",
   "version": "3.10.6"
  }
 },
 "nbformat": 4,
 "nbformat_minor": 5
}
